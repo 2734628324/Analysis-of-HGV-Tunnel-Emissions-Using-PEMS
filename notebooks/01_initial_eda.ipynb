{
 "cells": [
  {
   "cell_type": "code",
   "execution_count": null,
   "id": "6facac66",
   "metadata": {},
   "outputs": [
    {
     "ename": "ModuleNotFoundError",
     "evalue": "No module named 'src'",
     "output_type": "error",
     "traceback": [
      "\u001b[1;31m---------------------------------------------------------------------------\u001b[0m",
      "\u001b[1;31mModuleNotFoundError\u001b[0m                       Traceback (most recent call last)",
      "Cell \u001b[1;32mIn[2], line 3\u001b[0m\n\u001b[0;32m      1\u001b[0m \u001b[38;5;66;03m# 示例：在你的 Notebook 中加载数据\u001b[39;00m\n\u001b[1;32m----> 3\u001b[0m \u001b[38;5;28;01mfrom\u001b[39;00m \u001b[38;5;21;01msrc\u001b[39;00m\u001b[38;5;21;01m.\u001b[39;00m\u001b[38;5;21;01mdata_processor\u001b[39;00m \u001b[38;5;28;01mimport\u001b[39;00m load_processed_data, concatenate_datasets\n\u001b[0;32m      5\u001b[0m \u001b[38;5;66;03m# 加载一个特定的文件\u001b[39;00m\n\u001b[0;32m      6\u001b[0m df_test \u001b[38;5;241m=\u001b[39m load_processed_data(\u001b[38;5;124m\"\u001b[39m\u001b[38;5;124mhgv_n3_g6_01_test\u001b[39m\u001b[38;5;124m\"\u001b[39m)\n",
      "\u001b[1;31mModuleNotFoundError\u001b[0m: No module named 'src'"
     ]
    }
   ],
   "source": [
    "# 示例：在你的 Notebook 中加载数据\n",
    "from src.data_processor import load_processed_data, concatenate_datasets\n",
    "\n",
    "# 加载一个特定的文件\n",
    "df_test = load_processed_data(\"hgv_n3_g6_01_test\")\n",
    "\n",
    "# 连接所有 HGV 数据进行统一分析\n",
    "hgv_aliases = [\"hgv_n3_g6_01\", \"hgv_n3_g6_02\", \"lng_g6_01\"]\n",
    "df_combined = concatenate_datasets(hgv_aliases)"
   ]
  }
 ],
 "metadata": {
  "kernelspec": {
   "display_name": "Python (Python 3.13)",
   "language": "python",
   "name": "my_python313_env"
  },
  "language_info": {
   "codemirror_mode": {
    "name": "ipython",
    "version": 3
   },
   "file_extension": ".py",
   "mimetype": "text/x-python",
   "name": "python",
   "nbconvert_exporter": "python",
   "pygments_lexer": "ipython3",
   "version": "3.11.5"
  }
 },
 "nbformat": 4,
 "nbformat_minor": 5
}
